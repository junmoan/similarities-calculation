{
  "nbformat": 4,
  "nbformat_minor": 0,
  "metadata": {
    "colab": {
      "name": "Similarities_Calculation.ipynb",
      "provenance": [],
      "collapsed_sections": []
    },
    "kernelspec": {
      "name": "python3",
      "display_name": "Python 3"
    }
  },
  "cells": [
    {
      "cell_type": "code",
      "metadata": {
        "id": "nvKLMZXQEDhE"
      },
      "source": [
        "class Similarity():\r\n",
        "\r\n",
        "  # Return euclidean distance between two lists.\r\n",
        "  def euclidean_distance(self,x,y): \r\n",
        "    return sqrt(sum(pow(a-b,2) for a, b in zip(x, y)))\r\n",
        "\r\n",
        "  # Return manhattan distance between two lists.\r\n",
        "  def manhattan_distance(self,x,y): \r\n",
        "    return sum(abs(a-b) for a,b in zip(x,y))\r\n",
        "\r\n",
        "  # Return minkowski distance between two lists.\r\n",
        "  def minkowski_distance(self,x,y,p_value): \r\n",
        "    return self.nth_root(sum(pow(abs(a-b),p_value) for a,b in zip(x, y)),p_value)\r\n",
        "\r\n",
        "  # Returns the n_root of an value.\r\n",
        "  def nth_root(self,value, n_root): \r\n",
        "    root_value = 1/float(n_root)\r\n",
        "    return round (Decimal(value) ** Decimal(root_value),3)\r\n",
        "\r\n",
        "  # Return cosine similarity between two lists.\r\n",
        "  def cosine_similarity(self,x,y):\r\n",
        "    numerator = sum(a*b for a,b in zip(x,y))\r\n",
        "    denominator = self.square_rooted(x)*self.square_rooted(y)\r\n",
        "    return round(numerator/float(denominator),3)\r\n",
        "\r\n",
        "  # Return 3 rounded square rooted value.\r\n",
        "  def square_rooted(self,x): \r\n",
        "    return round(sqrt(sum([a*a for a in x])),3)\r\n",
        "\r\n",
        "  # Returns the jaccard similarity between two lists.\r\n",
        "  def jaccard_similarity(self,x,y): \r\n",
        "    intersection_cardinality = len(set.intersection(*[set(x), set(y)]))\r\n",
        "    union_cardinality = len(set.union(*[set(x), set(y)]))\r\n",
        "    return intersection_cardinality/float(union_cardinality)"
      ],
      "execution_count": 15,
      "outputs": []
    },
    {
      "cell_type": "code",
      "metadata": {
        "colab": {
          "base_uri": "https://localhost:8080/"
        },
        "id": "ocpCnXE9GEkZ",
        "outputId": "313b811f-6491-42fc-bcee-7fee114e260a"
      },
      "source": [
        "# Main function to create Similarity class instance and get use of it.\r\n",
        "def main(): \r\n",
        "  measures = Similarity() \r\n",
        "  print('Euclidean Distance:', measures.euclidean_distance([-2,3,4,9],[3,6,3,-2]))\r\n",
        "  print('Jaccard Similarity:', measures.jaccard_similarity([1,2,5,6],[0,2,5,7,9]))\r\n",
        "  print('Cosine Similarity:', measures.cosine_similarity([0,1,2],[2,3,5]))\r\n",
        "\r\n",
        "\r\n",
        "if __name__ == \"__main__\":\r\n",
        "  main()"
      ],
      "execution_count": 16,
      "outputs": [
        {
          "output_type": "stream",
          "text": [
            "Euclidean Distance: 12.489995996796797\n",
            "Jaccard Similarity: 0.2857142857142857\n",
            "Cosine Similarity: 0.943\n"
          ],
          "name": "stdout"
        }
      ]
    },
    {
      "cell_type": "code",
      "metadata": {
        "id": "-PDRM9XDGFdv"
      },
      "source": [
        ""
      ],
      "execution_count": null,
      "outputs": []
    }
  ]
}